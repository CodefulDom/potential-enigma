{
 "cells": [
  {
   "cell_type": "code",
   "execution_count": 1,
   "metadata": {},
   "outputs": [],
   "source": [
    "import spacy\n",
    "from random import choice, sample, shuffle"
   ]
  },
  {
   "cell_type": "code",
   "execution_count": 2,
   "metadata": {},
   "outputs": [],
   "source": [
    "nlp = spacy.load('en')\n",
    "vectors = spacy.load('en_vectors_web_lg')"
   ]
  },
  {
   "cell_type": "code",
   "execution_count": 49,
   "metadata": {},
   "outputs": [
    {
     "name": "stdout",
     "output_type": "stream",
     "text": [
      "['horse', 'sheep', 'elephant', 'cow', 'pig', 'monkey', 'jackass', 'bull', 'pigs', 'nigger']\n"
     ]
    }
   ],
   "source": [
    "def get_related(word):\n",
    "    \"\"\"\n",
    "    https://www.quora.com/How-can-I-find-a-synonym-for-a-word-in-a-given-context-using-NLP-and-ML-methods\n",
    "    \"\"\"\n",
    "  filtered_words = [w for w in word.vocab if w.is_lower == word.is_lower and w.prob >= -15]\n",
    "  similarity = sorted(filtered_words, key=lambda w: word.similarity(w), reverse=True)\n",
    "  return similarity[:10]\n",
    "answer = 'donkey'\n",
    "print([w.lower_ for w in get_related(vectors.vocab[answer])])"
   ]
  },
  {
   "cell_type": "markdown",
   "metadata": {},
   "source": [
    "Create a function that takes a text document, a sentence from that document to be the quiz question, and a word in that sentence to be the multiple choice answer. Return up to 3 additional words that serve as distractors: plausible but wrong alternatives to the answer"
   ]
  },
  {
   "cell_type": "code",
   "execution_count": 3,
   "metadata": {},
   "outputs": [],
   "source": [
    "text = '''\n",
    "But, we all saw how vulnerable the Warriors looked when Andre Iguodala went down during the playoffs, and the Rockets were one game away from dethroning the Dubs before Chris Paul went down\n",
    "In 1957, rookie center Bill Russell joined the Boston Celtics, which already featured guard Bob Cousy and coach Red Auerbach, and went on to lead the club to eleven NBA titles in thirteen seasons. Center Wilt Chamberlain entered the league with the Warriors in 1959 and became a dominant individual star of the 1960s, setting new single game records in scoring (100) and rebounding (55). Russell's rivalry with Chamberlain became one of the greatest rivalries in the history of American team sports.\n",
    "\n",
    "\n",
    "Bill Russell defending against Wilt Chamberlain in 1966.\n",
    "The 1960s were dominated by the Celtics. Led by Russell, Bob Cousy and coach Red Auerbach, Boston won eight straight championships in the NBA from 1959 to 1966. This championship streak is the longest in NBA history. They did not win the title in 1966–67, but regained it in the 1967–68 season and repeated in 1969. The domination totaled nine of the ten championship banners of the 1960s.[14]\n",
    "\n",
    "Through this period, the NBA continued to evolve with the shift of the Minneapolis Lakers to Los Angeles, the Philadelphia Warriors to San Francisco, the Syracuse Nationals to Philadelphia to become the Philadelphia 76ers, and the St. Louis Hawks moving to Atlanta, as well as the addition of its first expansion franchises. The Chicago Packers (now Washington Wizards) became the ninth NBA team in 1961. From 1966 to 1968, the league expanded from 9 to 14 teams, introducing the Chicago Bulls, Seattle SuperSonics (now Oklahoma City Thunder), San Diego Rockets (who relocated to Houston four years later), Milwaukee Bucks, and Phoenix Suns.\n",
    "\n",
    "In 1967, the league faced a new external threat with the formation of the American Basketball Association (ABA). The leagues engaged in a bidding war. The NBA landed the most important college star of the era, Kareem Abdul-Jabbar (then known as Lew Alcindor). However, the NBA's leading scorer, Rick Barry, jumped to the ABA, as did four veteran referees—Norm Drucker, Earl Strom, John Vanak, and Joe Gushue.[15]\n",
    "\n",
    "In 1969, Alan Siegel, who oversaw the design of Jerry Dior's Major League Baseball logo a year prior, created the modern NBA logo inspired by the MLB's. It incorporates the silhouette of the legendary Jerry West based on a photo by Wen Roberts, although NBA officials denied a particular player as being its influence because, according to Siegel, \"They want to institutionalize it rather than individualize it. It's become such a ubiquitous, classic symbol and focal point of their identity and their licensing program that they don't necessarily want to identify it with one player.\" The iconic logo debuted in 1971 (with a small change to the typeface on the NBA wordmark in 2017) and would remain a fixture of the NBA brand.[16][17]\n",
    "\n",
    "The ABA succeeded in signing a number of major stars in the 1970s, including Julius Erving of the Virginia Squires, in part because it allowed teams to sign college undergraduates. The NBA expanded rapidly during this period, one purpose being to tie up the most viable cities. From 1966 to 1974, the NBA grew from nine franchises to 18. In 1970, the Portland Trail Blazers, Cleveland Cavaliers, and Buffalo Braves (now the Los Angeles Clippers) all made their debuts expanding the league to 17.[18] The New Orleans Jazz (now in Utah) came aboard in 1974 bringing the total to 18. Following the 1976 season, the leagues reached a settlement that provided for the addition of four ABA franchises to the NBA, raising the number of franchises in the league at that time to 22. The franchises added were the San Antonio Spurs, Denver Nuggets, Indiana Pacers, and New York Nets (now the Brooklyn Nets). Some of the biggest stars of this era were Kareem Abdul-Jabbar, Rick Barry, Dave Cowens, Julius Erving, Elvin Hayes, Walt Frazier, Moses Malone, Artis Gilmore, George Gervin, Dan Issel, and Pete Maravich. The end of the decade, however, saw declining TV ratings, low attendance and drug-related player issues – both perceived and real – that threatened to derail the league.\n",
    "'''"
   ]
  },
  {
   "cell_type": "code",
   "execution_count": 50,
   "metadata": {},
   "outputs": [],
   "source": [
    "text2 = '''\n",
    "On Thursday, 60 of basketball’s most talented prospects will realize a lifelong dream when the NBA conducts its annual draft. Karl-Anthony Towns, the Kentucky University center, has been heavily rumored to be the number one pick, but after that, it’s a bit up in the air. Among the potential picks: Jahlil Okafor, D’Angelo Russell, Emmanuel Mudiay, and Kristaps Porzingis, a versatile 7 foot 1, 19-year-old Latvian who’s as lean as he is skilled. Regardless of who ends up where, this high-potential group will be entering a league that’s undergone a major transformation in the past few years. And it’s a revolution that’s indisputably linked to the NBA’s growing, but controversial, reliance on data to measure a team’s likelihood of winning—a phenomenon vaguely defined as “analytics.”\n",
    "\n",
    "Once, the dominant way of judging how well a player or team would perform was the “eye-test”—the organic, gut-instinct impression that came simply from watching a game unfold. But that time has been replaced by an era in which coaches and their backroom staff pore over formulas and figures—how many mid-range jump shots a team uses versus attempts near the hoop, or how many three-point shots versus two-pointers—to predict the most effective methods for winning. While some doubt the importance of the shift, there are still coaches and legends of the sport who reject the practice of analytics and are leery of how number-crunching will fundamentally change the sport.\n",
    "\n",
    "Last week’s NBA Finals may have offered the naysayers the strongest evidence yet that analytics does, in fact work, that it’s become an entrenched part of basketball today, and that it will remain so for some time. The most-watched Finals since the age of Michael Jordan ended with victory for the Golden State Warriors over the Cleveland Cavaliers—both of which are teams that have heavily incorporated data analysis into how they play the game. The playoffs were yet another clear indicator that if teams want to win, they’d do best to ignore the likes of detractors such as Charles Barkley, who infamously went on a rant against the approach in January on Inside The NBA. (“Smart guys wanted to fit in so they made up a term called ‘analytics.’”)\n",
    "\n",
    "There’s proof of the benefits of more advanced analysis beyond the success of the Warriors and Cavaliers. The Houston Rockets—led by general manager and analytics buff Daryl Morey—are renowned for their use of data. The team rarely shoots long-range two-point jumpshots, as they believe it to be one of the worst strategies in basketball. And their reasoning makes sense: The shots are too far away from the rim to be rendered a high-probability scoring opportunity, yet not far enough—as in behind the three-point line—for the risk to be rewarded with an extra point. This ideology, backed up by mountains of data, is a prime example of analytics at work. The Rockets were successful despite an injury-plagued season losing in the Western Conference finals to the Warriors. They also set the all-time record for made three-pointers in a season, with 894 this year.\n",
    "\n",
    "While the movement to employ more sophisticated metrics has been in motion for some time, the turning point could perhaps be pegged as 2013—the year the NBA installed player-tracking systems in all 29 of its arenas. This was a watershed moment for the league: Every micro-movement on the court could now be tracked, quantified, and eventually archived. No longer could a player “hide” his deficiencies on the court. Coaches, their assistants, and the data-crunching backroom staff now had far more knowledge about players’ tendencies, and how certain groups of players work together than ever before. This has lead to a re-imagining of what matters in basketball and thus, a shift in the paradigm of player evaluation.\n",
    "\n",
    "Take for instance “volume scorers,” or players who traditionally take a lot of shots and score a lot of points, but don’t add much value in terms of defense, rebounding, or assists, among other things. In the past, such single-minded players escaped media scrutiny by putting up impressive raw-scoring numbers, even though they were sub-par in other facets of the game. Today, those types of players are maligned for their lack of overall impact. Even stars like Kobe Bryant and Carmelo Anthony have been criticized for their excessive shooting. This current shift isn’t simply due to some yearning for more team-oriented, inclusive strategies. Instead, the nouveau-NBA has moved toward “efficiency” being the dominant theme. No longer is it about raw totals as much as it’s about weighing the impact of each action. This has in turn affected how teams score. \n",
    "\n",
    "Harkening back to the Houston Rockets’s ethos, there’s been a league-wide shift from the two-point to the three-point shot over the years. And it’s a change that’s had tangible consequences for those who deny its reality. At the beginning of this recently completed season, the Los Angeles Lakers head coach Byron Scott, said that he would be eliminating a reliance on three pointers from the Lakers’ strategy. It was a move rightly condemned at the time as archaic—perhaps proven by the fact that the Lakers went on to finish this campaign with the worst record in franchise history. Of course, season-ending injuries to Kobe Bryant and rookie Julius Randle played a role in their dismal season, but completely divorcing their performance from that anti-three ideology would be granting Scott far too much of a pass. On the flip side, the 2015 Championship-winning Warriors were the league’s best three-point shooting team during the regular season. It’s almost impossible to disregard the success and importance of the three-point shot today: The last five teams remaining in the recently completed Playoffs were the five best three-point shooting teams during the regular season\n",
    "'''"
   ]
  },
  {
   "cell_type": "code",
   "execution_count": 4,
   "metadata": {},
   "outputs": [],
   "source": [
    "doc = nlp(text)"
   ]
  },
  {
   "cell_type": "code",
   "execution_count": 5,
   "metadata": {},
   "outputs": [],
   "source": [
    "entities = doc.ents"
   ]
  },
  {
   "cell_type": "code",
   "execution_count": 6,
   "metadata": {},
   "outputs": [
    {
     "data": {
      "text/plain": [
       "28"
      ]
     },
     "execution_count": 6,
     "metadata": {},
     "output_type": "execute_result"
    }
   ],
   "source": [
    "sentences = list(doc.sents)\n",
    "len(sentences)"
   ]
  },
  {
   "cell_type": "code",
   "execution_count": 7,
   "metadata": {},
   "outputs": [],
   "source": [
    "# uh = nlp(str(sentences[0]))\n",
    "# ents = list(uh.ents)\n",
    "# answer = choice(ents)\n",
    "# answer_interim = str(uh)\n",
    "# answer_str = answer_interim.replace(str(answer), '______')\n",
    "# tvec = nlp(str(answer)).vector\n",
    "# print(tvec.shape)\n",
    "# # nlp.vocab.vectors.most_similar(tvec)\n",
    "\n",
    "# #tvec.reshape(1,tvec.shape[0])"
   ]
  },
  {
   "cell_type": "markdown",
   "metadata": {},
   "source": [
    "For each sentence we want to grab a noun (NER) and then select similar words from GLOVE or something"
   ]
  },
  {
   "cell_type": "code",
   "execution_count": 60,
   "metadata": {},
   "outputs": [],
   "source": [
    "def get_questions(text):\n",
    "    question_list = []\n",
    "    doc = nlp(text)\n",
    "    sentences = list(doc.sents)\n",
    "    for sent in sentences:\n",
    "        try:\n",
    "            ts = sent\n",
    "            #process doc\n",
    "            doc = nlp(str(ts))\n",
    "\n",
    "            #get entities (Named Entity Recognition (NER))\n",
    "            ents = list(doc.ents)\n",
    "            filtered_ents = [ent for ent in ents if len(ent.text.split()) < 2]\n",
    "            filtered_ents2 = [ent for ent in ents if \"\\n\" not in list(ent.text.split())]\n",
    "\n",
    "            #get selection\n",
    "            answer = choice(filtered_ents)\n",
    "            str_answer = str(answer)\n",
    "            #remove answer from sent\n",
    "            question_str = str(ts)\n",
    "            question_sent = question_str.replace(str(answer), \"____________ \").replace(\"\\n\",\"\")\n",
    "\n",
    "            bad_answers = []\n",
    "            #get 3 similar options.\n",
    "            answers_vec = get_related(vectors.vocab[str_answer])\n",
    "            bad_answers = [thing.text for thing in sample(answers_vec, 3)]\n",
    "\n",
    "            all_options = [str_answer] + bad_answers\n",
    "            #output question w/ options\n",
    "            question_list.append(dict(correct_answer=answer, choices=all_options, question=question_sent))\n",
    "        except IndexError:\n",
    "            continue\n",
    "            \n",
    "    return question_list"
   ]
  },
  {
   "cell_type": "code",
   "execution_count": 61,
   "metadata": {},
   "outputs": [],
   "source": [
    "questions = get_questions(text)"
   ]
  },
  {
   "cell_type": "code",
   "execution_count": 62,
   "metadata": {},
   "outputs": [
    {
     "name": "stdout",
     "output_type": "stream",
     "text": [
      "[{'question': 'But, we all saw how vulnerable the Warriors looked when Andre Iguodala went down during the playoffs, and the Rockets were one game away from dethroning the ____________  before Chris Paul went downIn 1957, rookie center Bill Russell joined the Boston Celtics, which already featured guard Bob Cousy and coach Red Auerbach, and went on to lead the club to eleven NBA titles in thirteen seasons.', 'choices': ['Dubs', 'Gotta', 'BTW', 'Shit'], 'correct_answer': Dubs}, {'question': 'Center Wilt Chamberlain entered the league with the Warriors in ____________  and became a dominant individual star of the 1960s, setting new single game records in scoring (100) and rebounding (55).', 'choices': ['1959', '1980', '2004', '1998'], 'correct_answer': 1959}, {'question': \"____________ 's rivalry with Chamberlain became one of the greatest rivalries in the history of American team sports.\", 'choices': ['Russell', 'Charles', 'David', 'James'], 'correct_answer': Russell}, {'question': 'Bill Russell defending against Wilt Chamberlain in ____________ .', 'choices': ['1966', '1998', '2002', '2003'], 'correct_answer': 1966}, {'question': 'The 1960s were dominated by the ____________ .', 'choices': ['Celtics', 'Boston', 'Larry', 'Howard'], 'correct_answer': Celtics}, {'question': 'Led by Russell, Bob Cousy and coach Red Auerbach, Boston won eight straight championships in the NBA from 1959 to ____________ .', 'choices': ['1966', '2002', '2000', '1998'], 'correct_answer': 1966}, {'question': 'This championship streak is the longest in ____________  history.', 'choices': ['NBA', 'Howard', 'Kevin', 'James'], 'correct_answer': NBA}, {'question': 'They did not win the title in 1966–67, but regained it in the 1967–68 season and repeated in ____________ .', 'choices': ['1969', '2001', '1998', '1980'], 'correct_answer': 1969}, {'question': 'The domination totaled ____________  of the ten championship banners of the 1960s.[14]Through this period, the NBA continued to evolve with the shift of the Minneapolis Lakers to Los Angeles, the Philadelphia Warriors to San Francisco, the Syracuse Nationals to Philadelphia to become the Philadelphia 76ers, and the St. Louis Hawks moving to Atlanta, as well as the addition of its first expansion franchises.', 'choices': ['nine', 'nine', 'four', 'twelve'], 'correct_answer': nine}, {'question': 'The Chicago Packers (now Washington Wizards) became the ninth NBA team in ____________ .', 'choices': ['1961', '1984', '1980', '1998'], 'correct_answer': 1961}, {'question': 'From 1966 to 1968, the league expanded from 9 to 14 teams, introducing the Chicago Bulls, Seattle SuperSonics (now Oklahoma City Thunder), San Diego Rockets (who relocated to ____________  four years later), Milwaukee Bucks, and Phoenix Suns.', 'choices': ['Houston', 'Austin', 'Chicago', 'Dallas'], 'correct_answer': Houston}, {'question': 'In ____________ , the league faced a new external threat with the formation of the American Basketball Association (ABA).', 'choices': ['1967', '1980', '2003', '2005'], 'correct_answer': 1967}, {'question': 'The ____________  landed the most important college star of the era, Kareem Abdul-Jabbar (then known as Lew Alcindor).', 'choices': ['NBA', 'Carter', 'Dallas', 'Chicago'], 'correct_answer': NBA}, {'question': \"However, the NBA's leading scorer, Rick Barry, jumped to the ABA, as did ____________  veteran referees—\", 'choices': ['four', 'three', 'two', 'five'], 'correct_answer': four}, {'question': \"In 1969, Alan Siegel, who oversaw the design of Jerry Dior's Major League Baseball logo a year prior, created the modern ____________  logo inspired by the MLB's.\", 'choices': ['NBA', 'Chicago', 'Chris', 'Boston'], 'correct_answer': NBA}, {'question': 'It incorporates the silhouette of the legendary Jerry West based on a photo by Wen Roberts, although NBA officials denied a particular player as being its influence because, according to ____________ , \"They want to institutionalize it rather than individualize it.', 'choices': ['Siegel', 'Brian', 'Gordon', 'Alan'], 'correct_answer': Siegel}, {'question': 'The iconic logo debuted in 1971 (with a small change to the typeface on the NBA wordmark in 2017) and would remain a fixture of the NBA brand.[16][17]The ____________  succeeded in signing a number of major stars in the 1970s, including Julius Erving of the Virginia Squires, in part because it allowed teams to sign college undergraduates.', 'choices': ['ABA', 'ABC', 'AIG', 'Washington'], 'correct_answer': ABA}, {'question': 'The NBA expanded rapidly during this period, ____________  purpose being to tie up the most viable cities.', 'choices': ['one', 'least', 'one', 'another'], 'correct_answer': one}, {'question': 'From 1966 to 1974, the NBA grew from nine franchises to ____________ .', 'choices': ['18', '16', '26', '17'], 'correct_answer': 18}, {'question': 'In ____________ , the Portland Trail Blazers, Cleveland Cavaliers, and Buffalo Braves (now the Los Angeles Clippers) all made their debuts expanding the league to 17.[18]', 'choices': ['1970', '2004', '2003', '1998'], 'correct_answer': 1970}, {'question': 'The New Orleans Jazz (now in ____________ ) came aboard in 1974 bringing the total to 18.', 'choices': ['Utah', 'Missouri', 'Iowa', 'Colorado'], 'correct_answer': Utah}, {'question': 'Following the 1976 season, the leagues reached a settlement that provided for the addition of four ABA franchises to the NBA, raising the number of franchises in the league at that time to ____________ .', 'choices': ['22', '27', '17', '23'], 'correct_answer': 22}, {'question': 'The franchises added were the San Antonio ____________ , Denver Nuggets, Indiana Pacers, and New York Nets (now the Brooklyn Nets).', 'choices': ['Spurs', 'Fear', 'Arch', 'Cause'], 'correct_answer': Spurs}, {'question': 'The end of the decade, however, saw declining TV ratings, low attendance and drug-related player issues – both perceived and real – that threatened to derail the league.____________ ', 'choices': ['\\n', 'SUV', 'T', 'Ted'], 'correct_answer': \n",
      "}]\n"
     ]
    }
   ],
   "source": [
    "print(questions)"
   ]
  },
  {
   "cell_type": "code",
   "execution_count": 63,
   "metadata": {},
   "outputs": [],
   "source": [
    "questions2 = get_questions(text2)"
   ]
  },
  {
   "cell_type": "code",
   "execution_count": 64,
   "metadata": {},
   "outputs": [
    {
     "name": "stdout",
     "output_type": "stream",
     "text": [
      "[{'question': 'On Thursday, ____________  of basketball’s most talented prospects will realize a lifelong dream when the NBA conducts its annual draft.', 'choices': ['60', '70', '90', '55'], 'correct_answer': 60}, {'question': 'Karl-Anthony Towns, the Kentucky University center, has been heavily rumored to be the number ____________  pick, but after that, it’s a bit up in the air.', 'choices': ['one', 'one', 'only', 'there'], 'correct_answer': one}, {'question': 'Among the potential picks: Jahlil Okafor, D’Angelo Russell, Emmanuel Mudiay, and Kristaps Porzingis, a versatile 7 foot 1, ____________  Latvian who’s as lean as he is skilled.', 'choices': ['19-year-old', 'suspect', 'teenage', 'young'], 'correct_answer': 19-year-old}, {'question': 'And it’s a revolution that’s indisputably linked to the ____________ ’s growing, but controversial, reliance on data to measure a team’s likelihood of winning—a phenomenon vaguely defined as “analytics.', 'choices': ['NBA', 'Chicago', 'Boston', 'Dallas'], 'correct_answer': NBA}, {'question': 'how many mid-range jump shots a team uses versus attempts near the hoop, or how many ____________ -point shots versus two-pointers—to predict the most effective methods for winning.', 'choices': ['three', 'ten', 'several', 'three'], 'correct_answer': three}, {'question': 'Last week’s NBA Finals may have offered the naysayers the strongest evidence yet that analytics does, in fact work, that it’s become an entrenched part of basketball ____________ , and that it will remain so for some time.', 'choices': ['today', 'day', 'here', 'week'], 'correct_answer': today}, {'question': 'The playoffs were yet another clear indicator that if teams want to win, they’d do best to ignore the likes of detractors such as Charles Barkley, who infamously went on a rant against the approach in ____________  on Inside The NBA.', 'choices': ['January', 'December', 'October', 'July'], 'correct_answer': January}, {'question': '(“____________  guys wanted to fit in so they made up a term called ‘analytics.’”)', 'choices': ['Smart', 'Stupid', 'Smart', 'Good'], 'correct_answer': Smart}, {'question': 'The team rarely shoots long-range two-point jumpshots, as they believe it to be ____________  of the worst strategies in basketball.', 'choices': ['one', 'there', 'another', 'it'], 'correct_answer': one}, {'question': 'And their reasoning makes sense: The shots are too far away from the rim to be rendered a high-probability scoring opportunity, yet not far enough—as in behind the ____________ -point line—for the risk to be rewarded with an extra point.', 'choices': ['three', 'three', 'nine', 'four'], 'correct_answer': three}, {'question': 'The ____________  were successful despite an injury-plagued season losing in the Western Conference finals to the Warriors.', 'choices': ['Rockets', 'Nuclear', 'Israeli', 'Russians'], 'correct_answer': Rockets}, {'question': 'They also set the all-time record for made ____________ -pointers in a season, with 894 this year.', 'choices': ['three', 'eight', 'five', 'two'], 'correct_answer': three}, {'question': 'While the movement to employ more sophisticated metrics has been in motion for some time, the turning point could perhaps be pegged as 2013—the year the NBA installed player-tracking systems in all ____________  of its arenas.', 'choices': ['29', '19', '26', '29'], 'correct_answer': 29}, {'question': '____________ , their assistants, and the data-crunching backroom staff now had far more knowledge about players’ tendencies, and how certain groups of players work together than ever before.', 'choices': ['Coaches', 'Captain', 'Who', 'College'], 'correct_answer': Coaches}, {'question': '____________ , those types of players are maligned for their lack of overall impact.', 'choices': ['Today', 'We', 'Last', 'Today'], 'correct_answer': Today}, {'question': 'Instead, the nouveau-____________  has moved toward “efficiency” being the dominant theme.', 'choices': ['NBA', 'Jersey', 'Dallas', 'Kevin'], 'correct_answer': NBA}, {'question': 'Harkening back to the Houston Rockets’s ethos, there’s been a league-wide shift from the ____________ -point to the three-point shot over the years.', 'choices': ['two', 'several', 'eight', 'nine'], 'correct_answer': two}, {'question': 'At the beginning of this recently completed season, the Los Angeles Lakers head coach Byron Scott, said that he would be eliminating a reliance on three pointers from the ____________  strategy.', 'choices': ['Lakers’', 'T', 'Michigan', 'Fine'], 'correct_answer': Lakers’}, {'question': 'It was a move rightly condemned at the time as archaic—perhaps proven by the fact that the ____________  went on to finish this campaign with the worst record in franchise history.', 'choices': ['Lakers', 'Larry', 'Jersey', 'Howard'], 'correct_answer': Lakers}, {'question': 'Of course, season-ending injuries to Kobe Bryant and rookie Julius Randle played a role in their dismal season, but completely divorcing their performance from that anti-three ideology would be granting ____________  far too much of a pass.', 'choices': ['Scott', 'David', 'Steve', 'Robert'], 'correct_answer': Scott}, {'question': 'On the flip side, the 2015 Championship-winning Warriors were the league’s best ____________ -point shooting team during the regular season.', 'choices': ['three', 'several', 'two', 'ten'], 'correct_answer': three}, {'question': 'It’s almost impossible to disregard the success and importance of the three-point shot ____________ : The last five teams remaining in the recently completed Playoffs were the five best three-point shooting teams during the regular season', 'choices': ['today', 'today', 'here', 'earlier'], 'correct_answer': today}]\n"
     ]
    }
   ],
   "source": [
    "print(questions2)"
   ]
  },
  {
   "cell_type": "code",
   "execution_count": null,
   "metadata": {},
   "outputs": [],
   "source": []
  }
 ],
 "metadata": {
  "kernelspec": {
   "display_name": "Python 3",
   "language": "python",
   "name": "python3"
  },
  "language_info": {
   "codemirror_mode": {
    "name": "ipython",
    "version": 3
   },
   "file_extension": ".py",
   "mimetype": "text/x-python",
   "name": "python",
   "nbconvert_exporter": "python",
   "pygments_lexer": "ipython3",
   "version": "3.5.2"
  }
 },
 "nbformat": 4,
 "nbformat_minor": 2
}
